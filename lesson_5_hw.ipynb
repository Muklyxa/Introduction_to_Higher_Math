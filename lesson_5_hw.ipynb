{
 "cells": [
  {
   "cell_type": "markdown",
   "metadata": {},
   "source": [
    "### 1. Напишите код, моделирующий выпадение поля в рулетке (с учетом поля зеро)."
   ]
  },
  {
   "cell_type": "code",
   "execution_count": 17,
   "metadata": {},
   "outputs": [],
   "source": [
    "import numpy as np\n",
    "import itertools\n",
    "\n",
    "import matplotlib.pyplot as plt\n",
    "# import matplotlib.mlab as mlab\n",
    "%matplotlib inline"
   ]
  },
  {
   "cell_type": "code",
   "execution_count": 18,
   "metadata": {},
   "outputs": [
    {
     "data": {
      "text/plain": [
       "23"
      ]
     },
     "execution_count": 18,
     "metadata": {},
     "output_type": "execute_result"
    }
   ],
   "source": [
    "round(np.random.uniform(0, 36))"
   ]
  },
  {
   "cell_type": "markdown",
   "metadata": {},
   "source": [
    "### 2."
   ]
  },
  {
   "cell_type": "markdown",
   "metadata": {},
   "source": [
    "1) Напишите код, проверяющий любую из теорем сложения или умножения\n",
    "вероятности на примере рулетки или подбрасывания монетки."
   ]
  },
  {
   "cell_type": "code",
   "execution_count": 19,
   "metadata": {},
   "outputs": [
    {
     "name": "stdout",
     "output_type": "stream",
     "text": [
      "0: 0.01432\n",
      "\n",
      "1: 0.02693\n",
      "\n",
      "2: 0.027\n",
      "\n",
      "3: 0.02761\n",
      "\n",
      "4: 0.02679\n",
      "\n",
      "5: 0.02758\n",
      "\n",
      "6: 0.0276\n",
      "\n",
      "7: 0.02774\n",
      "\n",
      "8: 0.02783\n",
      "\n",
      "9: 0.02774\n",
      "\n",
      "10: 0.028\n",
      "\n",
      "11: 0.02699\n",
      "\n",
      "12: 0.0287\n",
      "\n",
      "13: 0.02829\n",
      "\n",
      "14: 0.02862\n",
      "\n",
      "15: 0.02827\n",
      "\n",
      "16: 0.02785\n",
      "\n",
      "17: 0.02735\n",
      "\n",
      "18: 0.02786\n",
      "\n",
      "19: 0.02731\n",
      "\n",
      "20: 0.02701\n",
      "\n",
      "21: 0.0273\n",
      "\n",
      "22: 0.02814\n",
      "\n",
      "23: 0.02733\n",
      "\n",
      "24: 0.02815\n",
      "\n",
      "25: 0.02933\n",
      "\n",
      "26: 0.02857\n",
      "\n",
      "27: 0.02764\n",
      "\n",
      "28: 0.02706\n",
      "\n",
      "29: 0.02801\n",
      "\n",
      "30: 0.02687\n",
      "\n",
      "31: 0.02831\n",
      "\n",
      "32: 0.02741\n",
      "\n",
      "33: 0.02835\n",
      "\n",
      "34: 0.02799\n",
      "\n",
      "35: 0.02749\n",
      "\n",
      "36: 0.01466\n",
      "\n"
     ]
    }
   ],
   "source": [
    "n = 100000\n",
    "\n",
    "field: dict = {0: 0, 1: 0, 2: 0, 3: 0, 4: 0, 5: 0, 6: 0, 7: 0, 8: 0, 9: 0, 10: 0, 11: 0, 12: 0, 13: 0, 14: 0, 15: 0, 16: 0,\n",
    "               17: 0, 18: 0, 19: 0, 20: 0, 21: 0, 22: 0, 23: 0, 24: 0, 25: 0, 26: 0, 27: 0, 28: 0, 29: 0, 30: 0, 31: 0, 32: 0,\n",
    "              33: 0, 34: 0, 35: 0, 36: 0}\n",
    "for i in range(n):\n",
    "    field[round(np.random.uniform(0, 36))] += 1\n",
    "    \n",
    "for i in range(37):    \n",
    "    print(f'{i}: {field[i]/n}\\n')"
   ]
  },
  {
   "cell_type": "markdown",
   "metadata": {},
   "source": [
    "2) Сгенерируйте десять выборок случайных чисел х0, …, х9.\n",
    "и постройте гистограмму распределения случайной суммы х0+х1+ …+ х9."
   ]
  },
  {
   "cell_type": "code",
   "execution_count": 20,
   "metadata": {},
   "outputs": [
    {
     "data": {
      "text/plain": [
       "Text(0.5, 1.0, 'Histogram')"
      ]
     },
     "execution_count": 20,
     "metadata": {},
     "output_type": "execute_result"
    },
    {
     "data": {
      "image/png": "[encoded data removed]",
      "text/plain": [
       "<Figure size 432x288 with 1 Axes>"
      ]
     },
     "metadata": {
      "needs_background": "light"
     },
     "output_type": "display_data"
    }
   ],
   "source": [
    "n = 10\n",
    "length = 10000\n",
    "\n",
    "x_sum = np.zeros(length)\n",
    "x = []\n",
    "for i in range(n):\n",
    "    y = np.random.rand(length)\n",
    "    x.append(y)\n",
    "    x_sum += y\n",
    "    \n",
    "num_bins = 50\n",
    "n, bins, patches = plt.hist(x_sum, num_bins)\n",
    "plt.xlabel('x')\n",
    "plt.ylabel('Probability')\n",
    "plt.title('Histogram')"
   ]
  },
  {
   "cell_type": "markdown",
   "metadata": {},
   "source": [
    "### 3."
   ]
  },
  {
   "cell_type": "markdown",
   "metadata": {},
   "source": [
    "1) Дополните код Монте-Карло последовательности независимых испытаний\n",
    "расчетом соответствующих вероятностей (через биномиальное распределение)\n",
    "и сравните результаты."
   ]
  },
  {
   "cell_type": "code",
   "execution_count": 21,
   "metadata": {},
   "outputs": [],
   "source": [
    "def fact(n):\n",
    "    fact = 1\n",
    "    while n > 1 :\n",
    "        fact *= n\n",
    "        n -= 1\n",
    "    return fact\n",
    "\n",
    "\n",
    "def calc_probability(k, n, prob):\n",
    "    C = fact(n)/(fact(k)*fact(n-k))\n",
    "    prob = C*(prob**k)*((1.0 - prob)**(n-k))\n",
    "    return prob"
   ]
  },
  {
   "cell_type": "markdown",
   "metadata": {},
   "source": [
    "2) Повторите расчеты биномиальных коэффициентов и вероятностей k успехов в\n",
    "последовательности из n независимых испытаний, взяв другие значения n и k."
   ]
  },
  {
   "cell_type": "code",
   "execution_count": 22,
   "metadata": {},
   "outputs": [
    {
     "name": "stdout",
     "output_type": "stream",
     "text": [
      "3160 10000 0.316\n",
      "0.3125\n"
     ]
    }
   ],
   "source": [
    "rel_freq, n, length = 0, 6, 10000\n",
    "k = 3\n",
    "sucsess_prob = 0.5\n",
    "\n",
    "x_sum = np.zeros(length)\n",
    "for i in range(n):\n",
    "    x_sum += np.random.randint(0, 2, length)\n",
    "\n",
    "for i in range(0, length):\n",
    "    if x_sum[i] == k:\n",
    "        rel_freq = rel_freq + 1\n",
    "        \n",
    "print(rel_freq, length, rel_freq/length)\n",
    "print(calc_probability(k, n, sucsess_prob))"
   ]
  },
  {
   "cell_type": "markdown",
   "metadata": {},
   "source": [
    "### 4. Из урока по комбинаторике повторите расчеты, сгенерировав возможные варианты перестановок для других значений n и k"
   ]
  },
  {
   "cell_type": "code",
   "execution_count": 24,
   "metadata": {},
   "outputs": [
    {
     "name": "stdout",
     "output_type": "stream",
     "text": [
      "012\n",
      "013\n",
      "014\n",
      "021\n",
      "023\n",
      "024\n",
      "031\n",
      "032\n",
      "034\n",
      "041\n",
      "042\n",
      "043\n",
      "102\n",
      "103\n",
      "104\n",
      "120\n",
      "123\n",
      "124\n",
      "130\n",
      "132\n",
      "134\n",
      "140\n",
      "142\n",
      "143\n",
      "201\n",
      "203\n",
      "204\n",
      "210\n",
      "213\n",
      "214\n",
      "230\n",
      "231\n",
      "234\n",
      "240\n",
      "241\n",
      "243\n",
      "301\n",
      "302\n",
      "304\n",
      "310\n",
      "312\n",
      "314\n",
      "320\n",
      "321\n",
      "324\n",
      "340\n",
      "341\n",
      "342\n",
      "401\n",
      "402\n",
      "403\n",
      "410\n",
      "412\n",
      "413\n",
      "420\n",
      "421\n",
      "423\n",
      "430\n",
      "431\n",
      "432\n"
     ]
    }
   ],
   "source": [
    "\n",
    "\n",
    "for p in itertools.permutations(\"01234\", 3):\n",
    "    print(''.join(str(x) for x in p))"
   ]
  },
  {
   "cell_type": "markdown",
   "metadata": {},
   "source": [
    "### 5. Дополните код расчетом коэффициента корреляции x и y по формуле"
   ]
  },
  {
   "cell_type": "code",
   "execution_count": 25,
   "metadata": {},
   "outputs": [
    {
     "data": {
      "image/png": "[encoded data removed]",
      "text/plain": [
       "<Figure size 432x288 with 1 Axes>"
      ]
     },
     "metadata": {
      "needs_background": "light"
     },
     "output_type": "display_data"
    },
    {
     "name": "stdout",
     "output_type": "stream",
     "text": [
      "[[1.       0.914242]\n",
      " [0.914242 1.      ]]\n"
     ]
    }
   ],
   "source": [
    "n = 1000\n",
    "r = 0.7\n",
    "x = np.random.rand(n)\n",
    "y = r*x + (1 - r)*np.random.rand(n)\n",
    "plt.plot(x, y, 'o')\n",
    "plt.xlabel('x')\n",
    "plt.ylabel('y')\n",
    "plt.grid(True)\n",
    "plt.show()\n",
    "c = np.corrcoef(x, y) \n",
    "print(c)"
   ]
  },
  {
   "cell_type": "code",
   "execution_count": 26,
   "metadata": {},
   "outputs": [
    {
     "name": "stdout",
     "output_type": "stream",
     "text": [
      "0.9142420036870126\n"
     ]
    }
   ],
   "source": [
    "R = np.sum((x - x.mean())*(y - y.mean()))/np.sqrt(np.sum((x - x.mean())**2)*np.sum((y - y.mean())**2))\n",
    "print(R)"
   ]
  },
  {
   "cell_type": "code",
   "execution_count": null,
   "metadata": {},
   "outputs": [],
   "source": []
  }
 ],
 "metadata": {
  "kernelspec": {
   "display_name": "Python 3",
   "language": "python",
   "name": "python3"
  },
  "language_info": {
   "codemirror_mode": {
    "name": "ipython",
    "version": 3
   },
   "file_extension": ".py",
   "mimetype": "text/x-python",
   "name": "python",
   "nbconvert_exporter": "python",
   "pygments_lexer": "ipython3",
   "version": "3.8.3"
  }
 },
 "nbformat": 4,
 "nbformat_minor": 4
}
