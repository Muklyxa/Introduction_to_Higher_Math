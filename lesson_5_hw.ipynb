{
 "cells": [
  {
   "cell_type": "markdown",
   "metadata": {},
   "source": [
    "### 1. Напишите код, моделирующий выпадение поля в рулетке (с учетом поля зеро)."
   ]
  },
  {
   "cell_type": "code",
   "execution_count": 56,
   "metadata": {},
   "outputs": [],
   "source": [
    "import numpy as np\n",
    "\n",
    "import matplotlib.pyplot as plt\n",
    "# import matplotlib.mlab as mlab\n",
    "%matplotlib inline"
   ]
  },
  {
   "cell_type": "code",
   "execution_count": 46,
   "metadata": {},
   "outputs": [
    {
     "data": {
      "text/plain": [
       "22"
      ]
     },
     "execution_count": 46,
     "metadata": {},
     "output_type": "execute_result"
    }
   ],
   "source": [
    "round(np.random.uniform(0, 36))"
   ]
  },
  {
   "cell_type": "markdown",
   "metadata": {},
   "source": [
    "### 2."
   ]
  },
  {
   "cell_type": "markdown",
   "metadata": {},
   "source": [
    "1) Напишите код, проверяющий любую из теорем сложения или умножения\n",
    "вероятности на примере рулетки или подбрасывания монетки."
   ]
  },
  {
   "cell_type": "code",
   "execution_count": 55,
   "metadata": {},
   "outputs": [
    {
     "name": "stdout",
     "output_type": "stream",
     "text": [
      "0: 0.013669\n",
      "\n",
      "1: 0.027759\n",
      "\n",
      "2: 0.027722\n",
      "\n",
      "3: 0.027649\n",
      "\n",
      "4: 0.02804\n",
      "\n",
      "5: 0.027804\n",
      "\n",
      "6: 0.027603\n",
      "\n",
      "7: 0.028141\n",
      "\n",
      "8: 0.027515\n",
      "\n",
      "9: 0.027574\n",
      "\n",
      "10: 0.027648\n",
      "\n",
      "11: 0.02783\n",
      "\n",
      "12: 0.027815\n",
      "\n",
      "13: 0.027847\n",
      "\n",
      "14: 0.028049\n",
      "\n",
      "15: 0.02768\n",
      "\n",
      "16: 0.027806\n",
      "\n",
      "17: 0.027861\n",
      "\n",
      "18: 0.027695\n",
      "\n",
      "19: 0.027881\n",
      "\n",
      "20: 0.027832\n",
      "\n",
      "21: 0.027531\n",
      "\n",
      "22: 0.027748\n",
      "\n",
      "23: 0.027877\n",
      "\n",
      "24: 0.028055\n",
      "\n",
      "25: 0.027504\n",
      "\n",
      "26: 0.028044\n",
      "\n",
      "27: 0.027745\n",
      "\n",
      "28: 0.028007\n",
      "\n",
      "29: 0.02763\n",
      "\n",
      "30: 0.027652\n",
      "\n",
      "31: 0.027628\n",
      "\n",
      "32: 0.028023\n",
      "\n",
      "33: 0.027612\n",
      "\n",
      "34: 0.027697\n",
      "\n",
      "35: 0.02775\n",
      "\n",
      "36: 0.014077\n",
      "\n"
     ]
    }
   ],
   "source": [
    "n = 10000000\n",
    "\n",
    "field: dict = {0: 0, 1: 0, 2: 0, 3: 0, 4: 0, 5: 0, 6: 0, 7: 0, 8: 0, 9: 0, 10: 0, 11: 0, 12: 0, 13: 0, 14: 0, 15: 0, 16: 0,\n",
    "               17: 0, 18: 0, 19: 0, 20: 0, 21: 0, 22: 0, 23: 0, 24: 0, 25: 0, 26: 0, 27: 0, 28: 0, 29: 0, 30: 0, 31: 0, 32: 0,\n",
    "              33: 0, 34: 0, 35: 0, 36: 0}\n",
    "for i in range(n):\n",
    "    field[round(np.random.uniform(0, 36))] += 1\n",
    "    \n",
    "for i in range(37):    \n",
    "    print(f'{i}: {field[i]/n}\\n')"
   ]
  },
  {
   "cell_type": "markdown",
   "metadata": {},
   "source": [
    "2) Сгенерируйте десять выборок случайных чисел х0, …, х9.\n",
    "и постройте гистограмму распределения случайной суммы х0+х1+ …+ х9."
   ]
  },
  {
   "cell_type": "code",
   "execution_count": 80,
   "metadata": {},
   "outputs": [
    {
     "data": {
      "text/plain": [
       "Text(0.5, 1.0, 'Histogram')"
      ]
     },
     "execution_count": 80,
     "metadata": {},
     "output_type": "execute_result"
    },
    {
     "data": {
      "image/png": "[encoded data removed]",
      "text/plain": [
       "<Figure size 432x288 with 1 Axes>"
      ]
     },
     "metadata": {
      "needs_background": "light"
     },
     "output_type": "display_data"
    }
   ],
   "source": [
    "n = 10\n",
    "length = 10000\n",
    "\n",
    "x_sum = np.zeros(length)\n",
    "x = []\n",
    "for i in range(n):\n",
    "    y = np.random.rand(length)\n",
    "    x.append(y)\n",
    "    x_sum += y\n",
    "    \n",
    "num_bins = 50\n",
    "n, bins, patches = plt.hist(x_sum, num_bins)\n",
    "plt.xlabel('x')\n",
    "plt.ylabel('Probability')\n",
    "plt.title('Histogram')"
   ]
  },
  {
   "cell_type": "markdown",
   "metadata": {},
   "source": [
    "### 3."
   ]
  },
  {
   "cell_type": "markdown",
   "metadata": {},
   "source": [
    "1) Дополните код Монте-Карло последовательности независимых испытаний\n",
    "расчетом соответствующих вероятностей (через биномиальное распределение)\n",
    "и сравните результаты."
   ]
  },
  {
   "cell_type": "code",
   "execution_count": null,
   "metadata": {},
   "outputs": [],
   "source": []
  }
 ],
 "metadata": {
  "kernelspec": {
   "display_name": "Python 3",
   "language": "python",
   "name": "python3"
  },
  "language_info": {
   "codemirror_mode": {
    "name": "ipython",
    "version": 3
   },
   "file_extension": ".py",
   "mimetype": "text/x-python",
   "name": "python",
   "nbconvert_exporter": "python",
   "pygments_lexer": "ipython3",
   "version": "3.8.3"
  }
 },
 "nbformat": 4,
 "nbformat_minor": 4
}
